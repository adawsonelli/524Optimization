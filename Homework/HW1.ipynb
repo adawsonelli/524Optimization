{
 "cells": [
  {
   "cell_type": "markdown",
   "metadata": {},
   "source": [
    "**Author:** Alex Dawson-Elli  \n",
    "**Assignment:** Homework 1  \n",
    "**Due:** 2/2/2018\n",
    "\n"
   ]
  },
  {
   "cell_type": "markdown",
   "metadata": {},
   "source": [
    "## Problem 1:\n",
    "Solve the following linear program using Clp Ecos and SCS solvers. Compare the answers found by each solver.\n",
    "\n",
    "objective fxn:  \n",
    "$5x_1 - x_2 + 11x_3$  \n",
    "\n",
    "constraints:  \n",
    "  $2x_1 ≥ x_2 + x_3$  \n",
    "  $ ≤ x_j ≤ 3, j ∈ {1, 2, 3}$\n",
    "\n"
   ]
  },
  {
   "cell_type": "markdown",
   "metadata": {},
   "source": [
    "we will define our problem statement in a function to keep code DRY"
   ]
  },
  {
   "cell_type": "code",
   "execution_count": 21,
   "metadata": {},
   "outputs": [
    {
     "data": {
      "text/plain": [
       "profile"
      ]
     },
     "execution_count": 21,
     "metadata": {},
     "output_type": "execute_result"
    }
   ],
   "source": [
    "#define the problem, independent of solver used:\n",
    "using JuMP, Clp, ECOS, SCS\n",
    "\n",
    "\"\"\"setup a model given the supplied model type\"\"\"\n",
    "function setup(m)\n",
    "    @variable(m, 0 <= x₁ <= 3)          \n",
    "    @variable(m, 0 <= x₂ <= 3)\n",
    "    @variable(m, 0 <= x₃ <= 3) \n",
    "    @constraint(m,  x₂ + x₃ <= 2x₁)          \n",
    "    @objective(m, Max, 5x₁ - x₂ + 11x₃)          \n",
    "    return m\n",
    "end\n",
    "\n",
    "\"\"\"\n",
    "profile code and display results:\n",
    "\"\"\"\n",
    "function profile(m)\n",
    "    @time(for i = 1:1000 solve(m) end)\n",
    "    println(\"x₁ = \" , getvalue(m.objDict[:x₁]))\n",
    "    println(\"x₂ = \" , getvalue(m.objDict[:x₂]))\n",
    "    println(\"x₃ = \" , getvalue(m.objDict[:x₃]))\n",
    "    println(\"max value is:\", getobjectivevalue(m))   \n",
    "end"
   ]
  },
  {
   "cell_type": "code",
   "execution_count": 2,
   "metadata": {},
   "outputs": [
    {
     "data": {
      "text/latex": [
       "$$ \\begin{alignat*}{1}\\max\\quad & 5 x₁ - x₂ + 11 x₃\\\\\n",
       "\\text{Subject to} \\quad & x₂ + x₃ - 2 x₁ \\leq 0\\\\\n",
       " & 0 \\leq x₁ \\leq 3\\\\\n",
       " & 0 \\leq x₂ \\leq 3\\\\\n",
       " & 0 \\leq x₃ \\leq 3\\\\\n",
       "\\end{alignat*}\n",
       " $$"
      ],
      "text/plain": [
       "Maximization problem with:\n",
       " * 1 linear constraint\n",
       " * 3 variables\n",
       "Solver is ClpMathProg"
      ]
     },
     "execution_count": 2,
     "metadata": {},
     "output_type": "execute_result"
    }
   ],
   "source": [
    "#evaluate model\n",
    "m = Model(solver = ClpSolver())\n",
    "m = setup(m)"
   ]
  },
  {
   "cell_type": "code",
   "execution_count": 22,
   "metadata": {},
   "outputs": [
    {
     "name": "stdout",
     "output_type": "stream",
     "text": [
      "  0.206704 seconds (36.03 k allocations: 2.413 MiB)\n",
      "x₁ = 3.0\n",
      "x₂ = 0.0\n",
      "x₃ = 3.0\n",
      "max value is:48.0\n"
     ]
    }
   ],
   "source": [
    "#use Clp solver\n",
    "m = Model(solver = ClpSolver())\n",
    "m = setup(m)\n",
    "profile(m)"
   ]
  },
  {
   "cell_type": "code",
   "execution_count": 23,
   "metadata": {},
   "outputs": [
    {
     "name": "stdout",
     "output_type": "stream",
     "text": [
      "  0.309517 seconds (493.09 k allocations: 28.327 MiB, 2.08% gc time)\n",
      "x₁ = 2.999999998571697\n",
      "x₂ = 8.223270148055816e-9\n",
      "x₃ = 3.000000000197723\n",
      "max value is:47.999999986810174\n"
     ]
    }
   ],
   "source": [
    "#use ECOS solver \n",
    "m = Model(solver = ECOSSolver((verbose=0)))\n",
    "m = setup(m)\n",
    "profile(m)"
   ]
  },
  {
   "cell_type": "code",
   "execution_count": 24,
   "metadata": {},
   "outputs": [
    {
     "name": "stdout",
     "output_type": "stream",
     "text": [
      "  0.317732 seconds (393.07 k allocations: 22.878 MiB, 1.73% gc time)\n",
      "x₁ = 2.9999856529908175\n",
      "x₂ = 4.149724927436506e-6\n",
      "x₃ = 3.0000130627112145\n",
      "max value is:48.000067805052524\n"
     ]
    }
   ],
   "source": [
    "#use SCS solver \n",
    "m = Model(solver = SCSSolver((verbose=0)))\n",
    "m = setup(m)\n",
    "profile(m)"
   ]
  },
  {
   "attachments": {},
   "cell_type": "markdown",
   "metadata": {},
   "source": [
    "## problem 1 answers\n",
    "**a) which solver is more accurate? **\n",
    "accuracy is easy to judge for a simple linear program like this by thinking graphically. The three constraints 0 ≤ xj ≤ 3, j ∈ {1, 2, 3} form a bounding cube that must contain the optimal solution (feasable set). The additional constraint  2x1 ≥ x2 + x3 further reduces the feasable set, and from the analysis presented at the end of lecture 2, the optimal solution of linear programs occures at verticies of the feasable polygon. since 2x1 = x2 + x3 is not parellel to any one side of the cube, this suggests that the optimal solution will have at least 2 or $[x_1 x_2 x_3]$ = 3, so we can say that say that an accurate solution should have an integer solution. Only the CLP algorithm has a truely integer solution, the rest have very close to integer solutions, but are slightly off, with ECOS having better accuracy than SCS.\n",
    "\n",
    "\n",
    "**b) which solver is the fastest?** lets begin by looking at the data, and then we will explain the data through principles from class. In order of speed, CLP<ECOS<SCS for 1000 executions of the solver. This agrees with the relationship between the generality of an algorithm, and its speed on a particular problem. \n",
    "![image.png](img/hw1Speed.png)\n",
    "CLP is written specifically to solve linear programs, so it does so with the highest efficiency. ECOS bo comparison is more general in that it solves second order cone problems, and LP⊆SOCP⊆SDP. The last point leads us to the conclusion that SCS should be slower than either Clp or ECOS, and experiment deminstrates this to be the case.\n"
   ]
  },
  {
   "cell_type": "markdown",
   "metadata": {},
   "source": [
    "## problem 2: \n"
   ]
  },
  {
   "cell_type": "markdown",
   "metadata": {},
   "source": [
    "Translating from words into tables, we see arrive at:\n",
    "\n",
    "Objective:\n",
    "$200w + 300c$\n",
    "\n",
    "The Recipe:\n",
    "\n",
    "|     |labor    | fertilizer   | acres |\n",
    "|:---:|:-------:|:------------:|:-----:|\n",
    "|wheat|   3     |      2       |   1   |\n",
    "|corn |   2     |      4       |   1   |\n",
    "\n",
    "\n",
    "The Stock:\n",
    "\n",
    "|labor    | fertilizer   | acres |\n",
    "|:-------:|:------------:|:-----:|\n",
    "|   100   |      120     |   45  |\n",
    "\n",
    "\n",
    "#### a) solve the optimization problem:"
   ]
  },
  {
   "cell_type": "code",
   "execution_count": 87,
   "metadata": {},
   "outputs": [],
   "source": [
    "using JuMP, Clp, ECOS, SCS\n",
    "\n",
    "m = Model(solver = ClpSolver())\n",
    "\n",
    "#form model constraints\n",
    "@variable(m, w >= 0)                           #wheat\n",
    "@variable(m, c >= 0)                           #corn\n",
    "@constraint(m, 0 <= 3w + 2c <= 100)            #labor\n",
    "@constraint(m, 0 <= 2w + 4c <= 120)            #fertilizer          \n",
    "@constraint(m, 0 <=  w +  c <= 45)             #acres       \n",
    "@objective(m, Max, 200w + 300c)   \n",
    "\n",
    "solve(m);"
   ]
  },
  {
   "cell_type": "code",
   "execution_count": 22,
   "metadata": {},
   "outputs": [
    {
     "name": "stdout",
     "output_type": "stream",
     "text": [
      "w = 19.99999999999999\n",
      "c = 20.000000000000007\n",
      "optimal solution is 10000.0\n"
     ]
    }
   ],
   "source": [
    "println(\"w = \" , getvalue(m.objDict[:w]))\n",
    "println(\"c = \" , getvalue(m.objDict[:c]))\n",
    "println(\"optimal solution is \", getobjectivevalue(m)) "
   ]
  },
  {
   "cell_type": "markdown",
   "metadata": {},
   "source": [
    "#### b) Separate parameters from the solution  \n",
    "Here we will solve the same problem again, but using structures to separate parameters from the model. This abstraction allows for easier changing of problems which are of the same class (in this case, a linear program)"
   ]
  },
  {
   "cell_type": "code",
   "execution_count": 85,
   "metadata": {
    "scrolled": true
   },
   "outputs": [
    {
     "data": {
      "text/plain": [
       "2×3 Named Array{Int64,2}\n",
       "crops ╲ resources │      :labor  :fertilizer       :acres\n",
       "──────────────────┼──────────────────────────────────────\n",
       ":wheat            │           3            2            1\n",
       ":corn             │           2            4            1"
      ]
     },
     "execution_count": 85,
     "metadata": {},
     "output_type": "execute_result"
    }
   ],
   "source": [
    "# the types of crops produced\n",
    "crops = [:wheat, :corn]\n",
    "\n",
    "#resource based constraints\n",
    "resources = [:labor , :fertilizer, :acres]\n",
    "\n",
    "# profits \n",
    "profit = Dict( zip( crops, [ 200, 300 ] ) )\n",
    "\n",
    "# quantities available (for each ingredient)\n",
    "quantAvail = Dict( zip( resources, [ 100, 120, 145 ] ) )\n",
    "\n",
    "# recipes (crops, resources)\n",
    "using NamedArrays\n",
    "recipeMat = [ 3 2 1 \n",
    "               2 4 1 ]\n",
    "recipe = NamedArray( recipeMat, (crops,resources), (\"crops\",\"resources\"))"
   ]
  },
  {
   "cell_type": "code",
   "execution_count": 89,
   "metadata": {},
   "outputs": [
    {
     "name": "stdout",
     "output_type": "stream",
     "text": [
      "plants: 1 dimensions:\n",
      "[wheat] = 19.99999999999999\n",
      "[ corn] = 20.000000000000007\n",
      "Total profit is: $10000.0\n"
     ]
    }
   ],
   "source": [
    "using JuMP, Clp\n",
    "m = Model(solver = ClpSolver())\n",
    "\n",
    "@variable(m, plants[crops] >= 0 )\n",
    "@expression(m, totalProfit, sum( profit[c]*plants[c] for c in crops) )\n",
    "@constraint(m, constr[i in resources], sum( recipe[c,i]*plants[c] for c in crops ) <= quantAvail[i] )\n",
    "@objective(m, Max, totalProfit )\n",
    "\n",
    " solve(m)\n",
    " println(getvalue(plants))\n",
    " println(\"Total profit is: \\$\", getvalue(totalProfit))"
   ]
  },
  {
   "cell_type": "markdown",
   "metadata": {},
   "source": [
    "#### c) solve problem graphically:\n",
    "from our variable definitions (box constraints) , w and c must both be positive, which limits the feasable region to quadrant I (only positive quantities). From our constraint equations, we can form the equations that specifiy the outer boundry of the feasable region, as shown in the following graph:\n",
    "\n",
    "\n",
    "\n",
    "\n"
   ]
  },
  {
   "cell_type": "code",
   "execution_count": 86,
   "metadata": {},
   "outputs": [
    {
     "data": {
      "image/png": "[encoded data removed]",
      "text/plain": [
       "PyPlot.Figure(PyObject <matplotlib.figure.Figure object at 0x000000003AC55AC8>)"
      ]
     },
     "metadata": {},
     "output_type": "display_data"
    }
   ],
   "source": [
    "using PyPlot\n",
    "\n",
    "#plot using c and w using intercepts (calculated manually)\n",
    "axis([0,60, 0, 50])\n",
    "plot([0,33.3],[50,0]) \n",
    "plot([0,45],[45,0]) \n",
    "plot([0,60],[30,0]) \n",
    "\n",
    "#plot the contour lines\n",
    "plot([0,30],[45,0], \"r--\" )\n",
    "\n",
    "#plot the optimal intercept\n",
    "plot([20],[20],\"ro\")\n",
    "\n",
    "#labeling\n",
    "legend([\"3w + 2c = 100\", \"2w + 4c = 120\", \"w + c = 45\",\"obj: 2w + 3c = 90\"])\n",
    "xlabel(\"wheat\")\n",
    "ylabel(\"corn\")\n",
    "\n",
    "#fill the feasable region for swagger points\n",
    "fill_between([0,20,33.3],[30,20,0], [0,0,0], hatch = \"/\", alpha = .5);\n",
    "\n"
   ]
  },
  {
   "cell_type": "markdown",
   "metadata": {},
   "source": [
    "The dashed red line line represents a sampling of the objective function as we move it in the feasable region. The maximum solution occures when the red dotted line intercepts the red dot. Lets find this dot analytically, as it is the intersection point of 3w + 2c = 10 and w + c = 45"
   ]
  },
  {
   "cell_type": "code",
   "execution_count": 82,
   "metadata": {},
   "outputs": [],
   "source": [
    "A = [3 2 ; 2 4 ]\n",
    "b = [100 120]';\n"
   ]
  },
  {
   "cell_type": "markdown",
   "metadata": {},
   "source": [
    "well solve the equation: \n",
    "$$\n",
    "Ax = b\n",
    "$$\n",
    "\n",
    "where:\n",
    "\n",
    "$$\n",
    "\\begin{bmatrix}\n",
    "     3& 2 \\\\\n",
    "     2& 4 \\\\\n",
    "\\end{bmatrix}\n",
    "x = \n",
    "\\begin{bmatrix}\n",
    "     100 \\\\\n",
    "     120 \\\\\n",
    "\\end{bmatrix}\n",
    "$$\n"
   ]
  },
  {
   "cell_type": "code",
   "execution_count": 83,
   "metadata": {},
   "outputs": [
    {
     "data": {
      "text/plain": [
       "2×1 Array{Float64,2}:\n",
       " 20.0\n",
       " 20.0"
      ]
     },
     "execution_count": 83,
     "metadata": {},
     "output_type": "execute_result"
    }
   ],
   "source": [
    "A\\b"
   ]
  },
  {
   "cell_type": "markdown",
   "metadata": {},
   "source": [
    "so our solution is \n",
    "$$\n",
    "c = 20, w = 20\n",
    "$$\n",
    "\n",
    "which is in agreement with our optimization result"
   ]
  }
 ],
 "metadata": {
  "kernelspec": {
   "display_name": "Julia 0.6.2",
   "language": "julia",
   "name": "julia-0.6"
  },
  "language_info": {
   "file_extension": ".jl",
   "mimetype": "application/julia",
   "name": "julia",
   "version": "0.6.2"
  }
 },
 "nbformat": 4,
 "nbformat_minor": 2
}
