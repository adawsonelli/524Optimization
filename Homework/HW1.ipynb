{
 "cells": [
  {
   "cell_type": "markdown",
   "metadata": {},
   "source": [
    "**author:** Alex Dawson-Elli  \n",
    "**assignment:** Homework 1  \n",
    "**due:** 2/2/2018\n",
    "\n"
   ]
  },
  {
   "cell_type": "markdown",
   "metadata": {},
   "source": [
    "**Problem 1:**  solve the following linear program using Clp Ecos and SCS solvers. Compare the answers found by each solver\n",
    "\n",
    "objective fxn:  \n",
    "$5x_1 - x_2 + 11x_3$  \n",
    "\n",
    "constraints:  \n",
    "  $2x1 ≥ x2 + x3$  \n",
    "  $ ≤ xj ≤ 3, j ∈ {1, 2, 3}$\n",
    "\n"
   ]
  },
  {
   "cell_type": "code",
   "execution_count": 1,
   "metadata": {
    "collapsed": false
   },
   "outputs": [
    {
     "ename": "LoadError",
     "evalue": "syntax: invalid \"using\" statement: expected identifier",
     "output_type": "error",
     "traceback": [
      "syntax: invalid \"using\" statement: expected identifier",
      ""
     ]
    }
   ],
   "source": [
    "#define the problem, independent of solver used:\n",
    "using JuMP, Clp \n",
    "\n",
    "\n",
    "\"\"\"solve problem 1 with the supplied solver type\"\"\"\n",
    "function solve(model)\n",
    "    \n",
    "end"
   ]
  },
  {
   "cell_type": "code",
   "execution_count": 8,
   "metadata": {
    "collapsed": false
   },
   "outputs": [
    {
     "name": "stderr",
     "output_type": "stream",
     "text": [
      "\u001b[1m\u001b[34mINFO: Precompiling module Clp.\n",
      "\u001b[0m\u001b[1m\u001b[31mERROR: LoadError: Cbc not properly installed. Please run Pkg.build(\"Cbc\")\n",
      " in error(::String) at .\\error.jl:21\n",
      " in include_from_node1(::String) at .\\loading.jl:488\n",
      " in macro expansion; at .\\none:2 [inlined]\n",
      " in anonymous at .\\<missing>:?\n",
      " in eval(::Module, ::Any) at .\\boot.jl:234\n",
      " in process_options(::Base.JLOptions) at .\\client.jl:242\n",
      " in _start() at .\\client.jl:321\n",
      "while loading C:\\Users\\Alex\\AppData\\Local\\JuliaPro-0.5.1.1\\pkgs-0.5.1.1\\v0.5\\Cbc\\src\\Cbc.jl, in expression starting on line 8\n",
      "\u001b[0m\u001b[1m\u001b[31mERROR: LoadError: LoadError: Failed to precompile Cbc to C:\\Users\\Alex\\AppData\\Local\\JuliaPro-0.5.1.1\\pkgs-0.5.1.1\\lib\\v0.5\\Cbc.ji.\n",
      " in compilecache(::String) at .\\loading.jl:593\n",
      " in require(::Symbol) at .\\loading.jl:393\n",
      " in include_from_node1(::String) at .\\loading.jl:488 (repeats 2 times)\n",
      " in macro expansion; at .\\none:2 [inlined]\n",
      " in anonymous at .\\<missing>:?\n",
      " in eval(::Module, ::Any) at .\\boot.jl:234\n",
      " in process_options(::Base.JLOptions) at .\\client.jl:242\n",
      " in _start() at .\\client.jl:321\n",
      "while loading C:\\Users\\Alex\\AppData\\Local\\JuliaPro-0.5.1.1\\pkgs-0.5.1.1\\v0.5\\Clp\\src\\ClpCInterface.jl, in expression starting on line 4\n",
      "while loading C:\\Users\\Alex\\AppData\\Local\\JuliaPro-0.5.1.1\\pkgs-0.5.1.1\\v0.5\\Clp\\src\\Clp.jl, in expression starting on line 10\n",
      "\u001b[0m"
     ]
    },
    {
     "ename": "LoadError",
     "evalue": "Failed to precompile Clp to C:\\Users\\Alex\\AppData\\Local\\JuliaPro-0.5.1.1\\pkgs-0.5.1.1\\lib\\v0.5\\Clp.ji.",
     "output_type": "error",
     "traceback": [
      "Failed to precompile Clp to C:\\Users\\Alex\\AppData\\Local\\JuliaPro-0.5.1.1\\pkgs-0.5.1.1\\lib\\v0.5\\Clp.ji.",
      "",
      " in compilecache(::String) at .\\loading.jl:593",
      " in require(::Symbol) at .\\loading.jl:422"
     ]
    }
   ],
   "source": [
    "using JuMP, Clp\n",
    "\n",
    "m = Model(solver = ClpSolver())\n",
    "\n",
    "@variable(m, 0 <= f <= 1000)           # football trophies\n",
    "@variable(m, 0 <= s <= 1500)           # soccer trophies\n",
    "@constraint(m, 4f + 2s <= 4800)        # total board feet of wood\n",
    "@constraint(m, f + s <= 1750)          # total number of plaques\n",
    "@objective(m, Max, 12f + 9s)           # maximize profit\n",
    "\n",
    "status = solve(m)\n",
    "\n",
    "println(status)\n",
    "println(\"Build \", getvalue(f), \" football trophies.\")\n",
    "println(\"Build \", getvalue(s), \" soccer trophies.\")\n",
    "println(\"Total profit will be \\$\", getobjectivevalue(m))"
   ]
  },
  {
   "cell_type": "code",
   "execution_count": null,
   "metadata": {
    "collapsed": true
   },
   "outputs": [],
   "source": []
  }
 ],
 "metadata": {
  "kernelspec": {
   "display_name": "Julia 0.5.1",
   "language": "julia",
   "name": "julia-0.5"
  },
  "language_info": {
   "file_extension": ".jl",
   "mimetype": "application/julia",
   "name": "julia",
   "version": "0.5.1"
  }
 },
 "nbformat": 4,
 "nbformat_minor": 2
}
