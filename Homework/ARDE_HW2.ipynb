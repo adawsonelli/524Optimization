{
 "cells": [
  {
   "cell_type": "markdown",
   "metadata": {},
   "source": [
    "Author: Alex Dawson-Elli  \n",
    "Class: 524 Optimization  \n",
    "Due: 2/9/2017"
   ]
  },
  {
   "cell_type": "markdown",
   "metadata": {},
   "source": [
    "#### Problem 1) polyhedron modeling \n",
    "Find the A matrix and b vector to satisfy $Ax\\leq b$ for shape (a) and shape (b) these solutions were found by inspection \n",
    "\n",
    "##### (a) The cube\n",
    "A cube has 6 faces, so we know that $A \\in \\mathbb{R}^{6x3} $ Taking z to be up, y to the right and x out, the equation for the a plane in three dimensions is given as:\n",
    "\n",
    "$$\n",
    "a(x - x_0) + b(y - y_0) + c(z - z_0) = 0 \n",
    "$$\n",
    "\n",
    "Where $p_0 = [x_0,y_0,z_0]$ is a point on the plane and the normal vector to the plane is given as $ \\vec{n} = [a,b,c]$.  solving this equation right face, and plugging in a point on the plane ( $p = [0,1,0]$) \n",
    "\n",
    "$$\n",
    "\\vec{n} = [0,1,0]  \n",
    "$$\n",
    "\n",
    "$$\n",
    "a(x - x_0) + b(y - y_0) + c(z - z_0) = 0 \n",
    "$$\n",
    "\n",
    "$$\n",
    "0(x - x_0) + 1(y - y_0) + 0(z - z_0) = 0  \n",
    "$$\n",
    "\n",
    "$$\n",
    "1(y - 1) = 0 \n",
    "$$\n",
    "\n",
    "$$\n",
    "y = 1\n",
    "$$\n",
    "\n",
    "This agrees with our intuition. Following the same logic 5 more times, and using the equation of the plane as a boundry for the inequality, the description of the polyhedron is determined to be:\n",
    "\n",
    "$$\n",
    "-1 \\leq x \\leq 1\n",
    "$$\n",
    "\n",
    "$$\n",
    "-1 \\leq y \\leq 1\n",
    "$$\n",
    "\n",
    "$$\n",
    "-1 \\leq z \\leq 1\n",
    "$$\n",
    "\n",
    "Transforming this into $Ax\\leq b$ form, we arrive at:\n",
    "$$Ax\\leq b$$\n",
    "\n",
    "$$\n",
    "\\begin{bmatrix}\n",
    "     1 &  0 &  0 \\\\\n",
    "    -1 &  0 &  0 \\\\\n",
    "     0 &  1 &  0 \\\\\n",
    "     0 & -1 &  0 \\\\\n",
    "     0 &  0 &  1 \\\\\n",
    "     0 &  0 & -1 \\\\\n",
    "\\end{bmatrix}\n",
    "\\begin{bmatrix}\n",
    "     x \\\\\n",
    "     y \\\\\n",
    "     z \\\\\n",
    "\\end{bmatrix}\n",
    "\\leq \n",
    "\\begin{bmatrix}\n",
    "     1 \\\\\n",
    "     1 \\\\\n",
    "     1 \\\\\n",
    "     1 \\\\\n",
    "     1 \\\\\n",
    "     1 \\\\\n",
    "\\end{bmatrix}\n",
    "$$\n",
    "\n",
    "#### (b) Regular octahedron\n",
    "\n",
    "Lets start by formally determining the normal vector for several of 8 planes using the cross product of two vectors in the plane"
   ]
  },
  {
   "cell_type": "code",
   "execution_count": 50,
   "metadata": {},
   "outputs": [
    {
     "name": "stdout",
     "output_type": "stream",
     "text": [
      "[1 1 1]\n",
      "[1 -1 1]\n",
      "[-1 -1 1]\n",
      "[-1, -1, 1]\n"
     ]
    }
   ],
   "source": [
    "#1\n",
    "x = [1, 0, 0]\n",
    "y = [0, 1, 0]\n",
    "z = [0, 0, 1]\n",
    "\n",
    "v1 = y - x\n",
    "v2 = z - x\n",
    "\n",
    "println(cross(v1,v2)')\n",
    "\n",
    "#2\n",
    "v1 =  z - x\n",
    "v2 = -y - x\n",
    "\n",
    "println(cross(v1,v2)')\n",
    "\n",
    "#3\n",
    "\n",
    "v1 =  z - -y\n",
    "v2 = -x - -y\n",
    "println(cross(v1,v2)')\n",
    "\n",
    "#4\n",
    "v1 = z - -x\n",
    "v2 = y - -z\n",
    "println(cross(v1,v2))\n"
   ]
  },
  {
   "cell_type": "markdown",
   "metadata": {},
   "source": [
    "From this test, we can conclude that the normal vector to a Regular Octahedron is defined by the unit vectors of the octant it resides in. \n"
   ]
  },
  {
   "cell_type": "code",
   "execution_count": 57,
   "metadata": {},
   "outputs": [
    {
     "name": "stdout",
     "output_type": "stream",
     "text": [
      "111"
     ]
    }
   ],
   "source": [
    "#determine the constant b for the equation of the plane\n",
    "function detEqu(n,pt)\n",
    "    return dot(n,pt)\n",
    "end\n",
    "\n",
    "print(detEqu([1,1,1],[1,0,0]))\n",
    "print(detEqu([1,-1,1],[1,0,0]))\n",
    "print(detEqu([1,-1,-1],[1,0,0]))\n",
    "\n",
    "#all these are 1:\n",
    "\n",
    "\n"
   ]
  },
  {
   "cell_type": "markdown",
   "metadata": {},
   "source": [
    "From this we can huristically determine A and b to be:"
   ]
  },
  {
   "cell_type": "markdown",
   "metadata": {},
   "source": [
    "\n",
    "$$Ax\\leq b$$\n",
    "\n",
    "$$\n",
    "\\begin{bmatrix}\n",
    "     1  &  1  &  1 \\\\\n",
    "     1  &  -1 & 1 \\\\\n",
    "     -1  &  1  &  1 \\\\\n",
    "     -1  & -1  &  1 \\\\\n",
    "     1  &  1  &  -1 \\\\\n",
    "     1  &  -1  & -1 \\\\\n",
    "    -1  &  1  & -1 \\\\\n",
    "    -1  & -1  & -1 \\\\\n",
    "\\end{bmatrix}\n",
    "\\begin{bmatrix}\n",
    "     x \\\\\n",
    "     y \\\\\n",
    "     z \\\\\n",
    "\\end{bmatrix}\n",
    "\\leq \n",
    "\\begin{bmatrix}\n",
    "     1 \\\\\n",
    "     1 \\\\\n",
    "     1 \\\\\n",
    "     1 \\\\\n",
    "     1 \\\\\n",
    "     1 \\\\\n",
    "     1 \\\\\n",
    "     1 \\\\\n",
    "\\end{bmatrix}\n",
    "$$\n"
   ]
  },
  {
   "cell_type": "markdown",
   "metadata": {},
   "source": [
    "#### Problem 2) standard form with equality constraints:\n",
    "\n"
   ]
  },
  {
   "cell_type": "markdown",
   "metadata": {},
   "source": [
    "##### (b1) solve initial formulation of the optimization problem\n",
    "\n",
    "First, we will solve the problem as it's initially presented, so our answer can be used to compare and check for algebreic mistakes in the Standard form.\n"
   ]
  },
  {
   "cell_type": "code",
   "execution_count": 31,
   "metadata": {},
   "outputs": [
    {
     "name": "stdout",
     "output_type": "stream",
     "text": [
      "Optimal\n",
      "Objective value is: 25.28571428571429\n"
     ]
    }
   ],
   "source": [
    "using JuMP, Clp\n",
    "\n",
    "m = Model(solver = ClpSolver())\n",
    "\n",
    "@variable(m, z₁)       \n",
    "@variable(m, -1 <= z₂ <= 5)          \n",
    "@variable(m, -1 <= z₃ <= 5)\n",
    "@variable(m, -2 <= z₄ <= 2) \n",
    "@constraint(m, -z₁ + 6z₂ - z₃ + z₄ >= -3)       #constraint 1\n",
    "@constraint(m,       7z₂      + z₄ ==  5)       #constraint 2\n",
    "@constraint(m,             z₃ + z₄ <=  2)       #constraint 3     \n",
    "@objective(m, Max, 3z₁ - z₂)          \n",
    "\n",
    "status = solve(m)\n",
    "\n",
    "println(status)\n",
    "println(\"Objective value is: \", getobjectivevalue(m))"
   ]
  },
  {
   "cell_type": "markdown",
   "metadata": {},
   "source": [
    "The model solved, and we now have a standard of comparison"
   ]
  },
  {
   "cell_type": "markdown",
   "metadata": {},
   "source": [
    "#### a) Transform LP into standard form\n",
    "The objective is to convert the optimization problem from it's existing form into the standard form:  \n",
    "\n",
    "$$\n",
    "\\text{minimize     } c^Tx \n",
    "$$\n",
    "\n",
    "$$\n",
    "\\text{subject to:  }  Ax = b\n",
    "$$\n",
    "\n",
    "$$\n",
    "x \\geq 0\n",
    "$$\n",
    "\n",
    "\n",
    "This requires a fair bit of algebra, and the application of substitution rules or \"Transformation Tricks\" outlined in slides 3-21 to 3-22.  \n",
    "\n",
    "**general approach**  \n",
    "    all variables in the initial formulation were were written as $z_i$ , all transformed variables will be denoted $x_i$ regardless of if they are slack variable, variable substitutions or what have you. \n",
    "    \n",
    "**place a bound on $z_1$**  \n",
    "In the original model, $z_1 \\in \\mathbb{R}$. We transform this by adding:\n",
    "$$z_1 = x_1 - x_2$$\n",
    "$$ x_1 \\geq 0 $$ \n",
    "$$x_2 \\geq 0 $$\n",
    "In accordance with rule 5.  \n",
    "\n",
    "**transforming double sided inequalities**  \n",
    "next, we transformed all inequalities of the form: \n",
    "$$min \\leq z_i \\leq max$$\n",
    "into one constraint of the form:\n",
    "$$x_i \\geq 0$$\n",
    "and the RHS of the inequality to an equality by adding a slack variable, as shown below:\n",
    "$$\n",
    "x_i - max \\leq 0\n",
    "$$\n",
    "\n",
    "$$\n",
    "x_i - max + x_{i+1} = 0  \\quad ; \\quad x_{i+1} \\geq 0\n",
    "$$\n",
    "\n",
    "through this process, our three box constraints:\n",
    "$$-1 \\leq z_2 \\leq 5 $$\n",
    "$$-1 \\leq z_3 \\leq 5 $$\n",
    "$$-2 \\leq z_4 \\leq 2 $$\n",
    "\n",
    "become:\n",
    "\n",
    "\n",
    "$$x_3 \\geq 0$$\n",
    "$$x_4 \\geq 0$$\n",
    "$$x_5 \\geq 0$$\n",
    "\n",
    "and:\n",
    "\n",
    "$$ x_3 - 6 + x_6 = 0 \\quad ; \\quad x_6 \\geq 0 $$\n",
    "$$ x_4 - 6 + x_7 = 0 \\quad ; \\quad x_7 \\geq 0 $$\n",
    "$$ x_5 - 4 + x_8 = 0 \\quad ; \\quad x_8 \\geq 0 $$\n",
    "\n",
    "**convert constraint 1-3 into $x_i$ variable space, and remove inequalities**\n",
    "\n",
    "beginning with constraint 1, lets multiply by -1 to flip arround the $\\geq$ sign:\n",
    "$$z_1 - 6z_2 + z_3 - z_4 - 3 \\leq 0$$\n",
    "\n",
    "applying the direct substitutions established earlier, we arrive at:\n",
    "$$x_1 - x_2 - 6x_3 + x_4 - x_5 + 4 \\leq 0 $$\n",
    "\n",
    "applying rule 4 to add a slack variable:\n",
    "$$x_1 - x_2 - 6x_3 + x_4 - x_5 + x_9 + 4  = 0  \\quad ; \\quad  x_9 \\geq 0$$\n",
    "\n",
    "constraint 2 is already an equality and through substitution it becomes:\n",
    "$$7x_3 + x_5 = 14$$\n",
    "\n",
    "adding a slack variable and substituting for 3 yeilds:\n",
    "$$x_4 + x_5 + x_{10} = 5 \\quad ; \\quad x_{10} \\geq 0$$\n",
    "\n",
    "\n",
    "All equations are expressed in their matrix from in the summary section:\n",
    "\n",
    "**conversion of objective function**\n",
    "the objective is specified as a maximization. To turn it into a minimization, simply apply the negative\n",
    "\n",
    "\n",
    "##### in summary:\n",
    "\n",
    "**x domain varibles**\n",
    "$$x_i \\geq 0 \\quad ∀_i ∈ \\{1,2...10 \\} $$\n",
    "\n",
    "**direct substitutions:**\n",
    "$$ z_1 = x_1 - x_2$$\n",
    "$$ z_2 = x_3 - 1$$\n",
    "$$ z_3 = x_4 -1$$\n",
    "$$ z_4 = x_5 -2$$\n",
    "\n",
    "**matrix equations**\n",
    "\n",
    "$$\n",
    "Ax = b\n",
    "$$\n",
    "\n",
    "$$ \n",
    "\\begin{bmatrix}\n",
    "     0 & 0 & 1 & 0 & 0 & 1 & 0 & 0 & 0 & 0 \\\\\n",
    "     0 & 0 & 0 & 1 & 0 & 0 & 1 & 0 & 0 & 0 \\\\\n",
    "     0 & 0 & 0 & 0 & 1 & 0 & 0 & 1 & 0 & 0 \\\\\n",
    "     1 &-1 &-6 & 1 &-1 & 0 & 0 & 0 & 1 & 0 \\\\\n",
    "     0 & 0 & 7 & 0 & 1 & 0 & 0 & 0 & 0 & 0 \\\\\n",
    "     0 & 0 & 0 & 1 & 1 & 0 & 0 & 0 & 0 & 1 \\\\\n",
    "\\end{bmatrix}\n",
    "x\n",
    "= \n",
    "\\begin{bmatrix}\n",
    "     6  \\\\\n",
    "     6  \\\\\n",
    "     4  \\\\\n",
    "    -4  \\\\\n",
    "     14 \\\\\n",
    "     5  \\\\\n",
    "\\end{bmatrix}\n",
    "$$"
   ]
  },
  {
   "cell_type": "code",
   "execution_count": 34,
   "metadata": {},
   "outputs": [
    {
     "name": "stdout",
     "output_type": "stream",
     "text": [
      "objective = 25.28571428571429\n"
     ]
    }
   ],
   "source": [
    "using JuMP, Clp\n",
    "\n",
    "#define matricies\n",
    "A = [0  0  1  0  0  1  0  0  0  0;\n",
    "     0  0  0  1  0  0  1  0  0  0;\n",
    "     0  0  0  0  1  0  0  1  0  0;\n",
    "     1 -1 -6  1 -1  0  0  0  1  0;\n",
    "     0  0  7  0  1  0  0  0  0  0;\n",
    "     0  0  0  1  1  0  0  0  0  1;]\n",
    "\n",
    "b = [6 6 4 -4 14 5]'\n",
    "\n",
    "c = [-3 3 1 0 0 0 0 0 0 0]'\n",
    "\n",
    "m = Model(solver = ClpSolver())\n",
    "\n",
    "\n",
    "@variable(m, x[1:10] >= 0) \n",
    "@constraint(m, A*x .<= b)   \n",
    "#@objective(m, Min, c'x[1] + 1)\n",
    "@objective(m, Min, -3x[1] + 3x[2] + x[3]  -1)\n",
    "\n",
    "status = solve(m)\n",
    "println(\"objective = \", -getobjectivevalue(m) )\n",
    "\n"
   ]
  },
  {
   "cell_type": "code",
   "execution_count": 24,
   "metadata": {},
   "outputs": [
    {
     "data": {
      "text/latex": [
       "$$ \\begin{alignat*}{1}\\min\\quad & 0\\\\\n",
       "\\text{Subject to} \\quad & x_{3} + x_{6} \\leq 6\\\\\n",
       " & x_{4} + x_{7} \\leq 6\\\\\n",
       " & x_{5} + x_{8} \\leq 4\\\\\n",
       " & x_{1} - x_{2} - 6 x_{3} + x_{4} - x_{5} + x_{9} \\leq -4\\\\\n",
       " & 7 x_{3} + x_{5} \\leq 14\\\\\n",
       " & x_{4} + x_{5} + x_{10} \\leq 5\\\\\n",
       " & x_{i} \\geq 0 \\quad\\forall i \\in \\{1,2,\\dots,9,10\\}\\\\\n",
       "\\end{alignat*}\n",
       " $$"
      ],
      "text/plain": [
       "Feasibility problem with:\n",
       " * 6 linear constraints\n",
       " * 10 variables\n",
       "Solver is ClpMathProg"
      ]
     },
     "execution_count": 24,
     "metadata": {},
     "output_type": "execute_result"
    }
   ],
   "source": [
    "m"
   ]
  },
  {
   "cell_type": "markdown",
   "metadata": {},
   "source": [
    "#### problem 3) Alloy blending"
   ]
  },
  {
   "cell_type": "markdown",
   "metadata": {},
   "source": [
    "A matrix approach was taken to this problem, which resulted in a compact system representation"
   ]
  },
  {
   "cell_type": "code",
   "execution_count": 18,
   "metadata": {},
   "outputs": [
    {
     "name": "stdout",
     "output_type": "stream",
     "text": [
      "Iron Alloy 1400.0\n",
      "Iron alloy 20.0\n",
      "Iron alloy 339.77630199231041\n",
      "Copper 10.0\n",
      "Copper 22.7612722824187346\n",
      "Aluminum 157.46242572527083\n",
      "Aluminum 20.0\n",
      "objective = 98121.63579168123\n"
     ]
    }
   ],
   "source": [
    "#define model\n",
    "m = Model(solver = ClpSolbver())\n",
    "matNames = [\"Iron Alloy 1\", \"Iron alloy 2\", \"Iron alloy 3\", \"Copper 1\", \"Copper 2\", \"Aluminum 1\", \"Aluminum 2\"]\n",
    "\n",
    "#define our system matricies\n",
    "composition = [2.5  0.0  1.3;\n",
    "               3.0  0.0  0.8;\n",
    "               0.0  0.3  0.0;\n",
    "               0.0  90   0.0;\n",
    "               0.0  96   4.0;\n",
    "               0.0  0.4  1.2;\n",
    "               0.0  0.6  0.0 ]  * .01   #handle conversion from %\n",
    "\n",
    "avail = [400,300,600,500,200,300,250]\n",
    "cost  = [200,250,150,220,240,200,165]\n",
    "minGrd = .01*[2.0,0.4,1.2]' #Minimum Grade\n",
    "maxGrd = .01*[3.0,0.6,1.65]' #Max Grade\n",
    "\n",
    "\n",
    "using JuMP, Clp\n",
    "\n",
    "m = Model(solver=ClpSolver())\n",
    "@variable(m, rawMaterials[1:7] >= 0 )  \n",
    "@constraint(m, dot(rawMaterials,ones(7)) >= 500) \n",
    "@constraint(m, rawMaterials' .<= avail')                            \n",
    "@constraint(m, minGrd * dot(rawMaterials,ones(7)) .<= rawMaterials'*composition) \n",
    "@constraint(m, rawMaterials'*composition .<= maxGrd * dot(rawMaterials,ones(7)))\n",
    "@objective(m, Min, dot(rawMaterials,cost) )                                      \n",
    "\n",
    "status = solve(m)\n",
    "rm = []\n",
    "#println(m)\n",
    "for i = 1:7\n",
    "    println(matNames[i], getvalue(rawMaterials[i]) )\n",
    "    push!(rm,getvalue(rawMaterials[i]))\n",
    "end\n",
    "# println(status)\n",
    "# println()\n",
    "#println(\"p = \", getvalue() )\n",
    "#println(\"q = \", getvalue() )\n",
    " println(\"objective = \", getobjectivevalue(m) )\n",
    "\n"
   ]
  },
  {
   "cell_type": "markdown",
   "metadata": {},
   "source": [
    "#### problem 4) stingler's diet  \n",
    "\n",
    "##### a) reproduce findings\n",
    "\n",
    "Lets begin by importing the data from the CSV file - using the provided code. I've modified this code slightly to make implementing matrix constraints easier, as the notation is quite compact. \n",
    "\n",
    "\n"
   ]
  },
  {
   "cell_type": "code",
   "execution_count": 24,
   "metadata": {},
   "outputs": [],
   "source": [
    "# import Stigler's data set\n",
    "raw = readcsv(\"stigler.csv\")\n",
    "(m,n) = size(raw)\n",
    "\n",
    "n_nutrients = 2:n      # columns containing nutrients\n",
    "n_foods = 3:m          # rows containing food names\n",
    "\n",
    "nutrients = raw[1,n_nutrients][:]   # the list of nutrients (convert to 1-D array)\n",
    "foods = raw[n_foods,1][:]           # the list of foods (convert to 1-D array)\n",
    "\n",
    "# lower[i] is the minimum daily requirement of nutrient i.\n",
    "lconst = convert(Array{Float64},raw[2,n_nutrients])  #named arrays are a bit verbose\n",
    "\n",
    "# data[f,i] is the amount of nutrient i contained in food f.\n",
    "dataMat = raw[n_foods,n_nutrients]  #named arrays are a bit verbose\n",
    "dataMat = convert(Array{Float64},dataMat); #make it nice and floaty"
   ]
  },
  {
   "cell_type": "code",
   "execution_count": 25,
   "metadata": {},
   "outputs": [
    {
     "data": {
      "text/plain": [
       ":Optimal"
      ]
     },
     "execution_count": 25,
     "metadata": {},
     "output_type": "execute_result"
    }
   ],
   "source": [
    "using JuMP, Clp\n",
    "\n",
    "m = Model(solver=ClpSolver())\n",
    "\n",
    "@variable(m, Foods[1:size(foods)[1]] >= 0 )  \n",
    "@constraint(m, Foods'*dataMat  .>= lconst')\n",
    "@objective(m, Min, dot(Foods,ones(size(foods)[1])))                                      \n",
    "\n",
    "status = solve(m)\n"
   ]
  },
  {
   "cell_type": "markdown",
   "metadata": {},
   "source": [
    "Cool, our solver completed sucessfully. Lets check quickly that our constraints our met"
   ]
  },
  {
   "cell_type": "code",
   "execution_count": 245,
   "metadata": {},
   "outputs": [
    {
     "name": "stdout",
     "output_type": "stream",
     "text": [
      "Any[3.0 147.414 0.8 60.4669 5.0 4.12044 2.7 27.316 75.0]\n",
      "[3.0 70.0 0.8 12.0 5.0 1.8 2.7 18.0 75.0]\n",
      "diff = [0.0 77.4135 1.11022e-16 48.4669 0.0 2.32044 0.0 9.31598 -1.42109e-14]\n"
     ]
    }
   ],
   "source": [
    "foodsChoosen = []\n",
    "for i = 1:77\n",
    "    push!(foodsChoosen,getvalue(Foods[i]))    \n",
    "end\n",
    "println(foodsChoosen'*dataMat)\n",
    "println(lconst')\n",
    "differ = (convert(Array{Float64},foodsChoosen'*dataMat)[1,:] - lconst)'\n",
    "println(\"diff = \", differ)"
   ]
  },
  {
   "cell_type": "markdown",
   "metadata": {},
   "source": [
    "so we see our constraints are met. let's see how stigler did without a computer."
   ]
  },
  {
   "cell_type": "code",
   "execution_count": 220,
   "metadata": {},
   "outputs": [
    {
     "name": "stdout",
     "output_type": "stream",
     "text": [
      "cost of food over a year is: 39.66173154546625\n"
     ]
    }
   ],
   "source": [
    "println(\"cost of food over a year is: \", getobjectivevalue(m)*365 )"
   ]
  },
  {
   "cell_type": "markdown",
   "metadata": {},
   "source": [
    "Stigler didn't do too bad."
   ]
  },
  {
   "cell_type": "markdown",
   "metadata": {},
   "source": [
    "##### b) repeat with vegetarian diet\n",
    "\n",
    "I've manually filtered the stigler list to only include vegetarian cuizine because let's face it, who has time to figure out how to pop a row from a Named Array in code. below, we reload the stiglerVeg.csv and repeat the above analysis\n"
   ]
  },
  {
   "cell_type": "code",
   "execution_count": 247,
   "metadata": {},
   "outputs": [],
   "source": [
    "# import Stigler's data set\n",
    "raw = readcsv(\"stiglerVeg.csv\")\n",
    "(m,n) = size(raw)\n",
    "\n",
    "n_nutrients = 2:n      # columns containing nutrients\n",
    "n_foods = 3:m          # rows containing food names\n",
    "\n",
    "nutrients = raw[1,n_nutrients][:]   # the list of nutrients (convert to 1-D array)\n",
    "foods = raw[n_foods,1][:]           # the list of foods (convert to 1-D array)\n",
    "\n",
    "# lower[i] is the minimum daily requirement of nutrient i.\n",
    "lconst = convert(Array{Float64},raw[2,n_nutrients])  #named arrays are a bit verbose\n",
    "\n",
    "# data[f,i] is the amount of nutrient i contained in food f.\n",
    "dataMat = raw[n_foods,n_nutrients]  #named arrays are a bit verbose\n",
    "dataMat = convert(Array{Float64},dataMat); #make it nice and floaty"
   ]
  },
  {
   "cell_type": "code",
   "execution_count": 249,
   "metadata": {},
   "outputs": [
    {
     "data": {
      "text/plain": [
       ":Optimal"
      ]
     },
     "execution_count": 249,
     "metadata": {},
     "output_type": "execute_result"
    }
   ],
   "source": [
    "using JuMP, Clp\n",
    "\n",
    "m = Model(solver=ClpSolver())\n",
    "\n",
    "@variable(m, Foods[1:size(foods)[1]] >= 0 )  \n",
    "@constraint(m, Foods'*dataMat  .>= lconst')\n",
    "@objective(m, Min, dot(Foods,ones(size(foods)[1])))                                      \n",
    "\n",
    "status = solve(m)\n"
   ]
  },
  {
   "cell_type": "code",
   "execution_count": 250,
   "metadata": {},
   "outputs": [
    {
     "name": "stdout",
     "output_type": "stream",
     "text": [
      "cost of food over a year is: 39.79866435040896\n"
     ]
    }
   ],
   "source": [
    "println(\"cost of food over a year is: \", getobjectivevalue(m)*365 )"
   ]
  },
  {
   "cell_type": "markdown",
   "metadata": {},
   "source": [
    "The cost of food as a vegetarian is higher, but not by much"
   ]
  }
 ],
 "metadata": {
  "kernelspec": {
   "display_name": "Julia 0.6.2",
   "language": "julia",
   "name": "julia-0.6"
  },
  "language_info": {
   "file_extension": ".jl",
   "mimetype": "application/julia",
   "name": "julia",
   "version": "0.6.2"
  }
 },
 "nbformat": 4,
 "nbformat_minor": 2
}
