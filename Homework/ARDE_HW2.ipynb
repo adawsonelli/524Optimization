{
 "cells": [
  {
   "cell_type": "markdown",
   "metadata": {},
   "source": [
    "Author: Alex Dawson-Elli  \n",
    "Class: 524 Optimization  \n",
    "Due: 2/9/2017"
   ]
  },
  {
   "cell_type": "markdown",
   "metadata": {},
   "source": [
    "#### Problem 1) polyhedron modeling \n",
    "Find the A matrix and b vector to satisfy $Ax\\leq b$ for shape (a) and shape (b) these solutions were found by inspection \n",
    "\n",
    "##### (a) The cube\n",
    "A cube has 6 faces, so we know that $A \\in \\mathbb{R}^{6x3} $ Taking z to be up, y to the right and x out, the equation for the a plane in three dimensions is given as:\n",
    "\n",
    "$$\n",
    "a(x - x_0) + b(y - y_0) + c(z - z_0) = 0 \n",
    "$$\n",
    "\n",
    "Where $p_0 = [x_0,y_0,z_0]$ is a point on the plane and the normal vector to the plane is given as $ \\vec{n} = [a,b,c]$.  solving this equation right face:\n",
    "\n",
    "$$\n",
    "\\vec{n} = [0,1,0]  \n",
    "$$\n",
    "\n",
    "$$\n",
    "a(x_1 - x_0) + b(y_1 - 1) + c(z_1 - z_0) = 0 \n",
    "$$\n",
    "\n",
    "$$\n",
    "a(x_1 - x_0) + b(y_1 - 1) + c(z_1 - z_0) = 0  \n",
    "$$\n",
    "\n",
    "\n",
    "\n"
   ]
  },
  {
   "cell_type": "markdown",
   "metadata": {},
   "source": [
    "#### Problem 2) standard form with equality constraints:\n",
    "convert the optimization problem from it's existing form into the standard form:  \n",
    "\n",
    "$$\n",
    "\\text{minimize     } c^Tx \n",
    "$$\n",
    "\n",
    "$$\n",
    "\\text{subject to:  }  Ax = b\n",
    "$$\n",
    "\n",
    "$$\n",
    "x \\geq 0\n",
    "$$\n",
    "\n",
    "\n",
    "\n"
   ]
  },
  {
   "cell_type": "markdown",
   "metadata": {},
   "source": [
    "##### b) solve both versions of the LP using JuMP and compare results\n",
    "\n"
   ]
  },
  {
   "cell_type": "code",
   "execution_count": null,
   "metadata": {},
   "outputs": [],
   "source": [
    "A = \n",
    "b = \n",
    "c = "
   ]
  },
  {
   "cell_type": "code",
   "execution_count": null,
   "metadata": {},
   "outputs": [],
   "source": [
    "using JuMP, Clp\n",
    "\n",
    "m = Model(solver = ClpSolver())\n",
    "\n",
    "@variable(m,x[1:10] >= 0)       \n",
    "@constraint(m, -z₁ + 6z₂ - z₃ + z₄ >= -3)\n",
    "@constraint(m,       7z₂      + z₄ >=  5)\n",
    "@constraint(m,           + z₃ + z₄ <=  2)               \n",
    "@objective(m, Max, 3z₁ - z₂)          \n"
   ]
  },
  {
   "cell_type": "code",
   "execution_count": 252,
   "metadata": {},
   "outputs": [
    {
     "name": "stdout",
     "output_type": "stream",
     "text": [
      "Optimal\n",
      "Objective value is: 103.0\n"
     ]
    }
   ],
   "source": [
    "\n",
    "\n",
    "m = Model(solver = ClpSolver())\n",
    "\n",
    "@variable(m, z₁)       \n",
    "@variable(m, -1 <= z₂ <= 5)          \n",
    "@variable(m, -1 <= z₃ <= 5)\n",
    "@variable(m, -2 <= z₄ <= 2) \n",
    "@constraint(m, -z₁ + 6z₂ - z₃ + z₄ >= -3)\n",
    "@constraint(m,       7z₂      + z₄ >=  5)\n",
    "@constraint(m,           + z₃ + z₄ <=  2)               \n",
    "@objective(m, Max, 3z₁ - z₂)          \n",
    "\n",
    "status = solve(m)\n",
    "\n",
    "println(status)\n",
    "println(\"Objective value is: \", getobjectivevalue(m))"
   ]
  },
  {
   "cell_type": "code",
   "execution_count": 10,
   "metadata": {},
   "outputs": [
    {
     "name": "stdout",
     "output_type": "stream",
     "text": [
      "[1.0 0.0 0.0; 0.0 1.0 0.0; 0.0 0.0 1.0]"
     ]
    }
   ],
   "source": []
  },
  {
   "cell_type": "code",
   "execution_count": 11,
   "metadata": {},
   "outputs": [
    {
     "data": {
      "text/plain": [
       "1//3"
      ]
     },
     "execution_count": 11,
     "metadata": {},
     "output_type": "execute_result"
    }
   ],
   "source": [
    "1//3"
   ]
  },
  {
   "cell_type": "markdown",
   "metadata": {},
   "source": [
    "#### problem 3) Alloy blending"
   ]
  },
  {
   "cell_type": "code",
   "execution_count": 251,
   "metadata": {},
   "outputs": [
    {
     "name": "stdout",
     "output_type": "stream",
     "text": [
      "p = 400.0\n",
      "p = 0.0\n",
      "p = 39.77630199231041\n",
      "p = 0.0\n",
      "p = 2.7612722824187346\n",
      "p = 57.46242572527083\n",
      "p = 0.0\n",
      "objective = 98121.63579168123\n"
     ]
    }
   ],
   "source": [
    "#define model\n",
    "m = Model(solver = ClpSolver())\n",
    "\n",
    "#define our system matricies\n",
    "composition = [2.5  0.0  1.3;\n",
    "               3.0  0.0  0.8;\n",
    "               0.0  0.3  0.0;\n",
    "               0.0  90   0.0;\n",
    "               0.0  96   4.0;\n",
    "               0.0  0.4  1.2;\n",
    "               0.0  0.6  0.0 ]  * .01   #handle conversion from %\n",
    "\n",
    "avail = [400,300,600,500,200,300,250]\n",
    "cost  = [200,250,150,220,240,200,165]\n",
    "minGrd = .01*[2.0,0.4,1.2]' #Minimum Grade\n",
    "maxGrd = .01*[3.0,0.6,1.65]' #Max Grade\n",
    "\n",
    "\n",
    "using JuMP, Clp\n",
    "\n",
    "m = Model(solver=ClpSolver())\n",
    "@variable(m, rawMaterials[1:7] >= 0 )  \n",
    "@constraint(m, dot(rawMaterials,ones(7)) >= 500) \n",
    "@constraint(m, rawMaterials' .<= avail')                            \n",
    "@constraint(m, minGrd * dot(rawMaterials,ones(7)) .<= rawMaterials'*composition) \n",
    "@constraint(m, rawMaterials'*composition .<= maxGrd * dot(rawMaterials,ones(7)))\n",
    "@objective(m, Min, dot(rawMaterials,cost) )                                      \n",
    "\n",
    "status = solve(m)\n",
    "rm = []\n",
    "#println(m)\n",
    "for i = 1:7\n",
    "    println(\"p = \", getvalue(rawMaterials[i]) )\n",
    "    push!(rm,getvalue(rawMaterials[i]))\n",
    "end\n",
    "# println(status)\n",
    "# println()\n",
    "#println(\"p = \", getvalue() )\n",
    "#println(\"q = \", getvalue() )\n",
    " println(\"objective = \", getobjectivevalue(m) )\n",
    "\n"
   ]
  },
  {
   "cell_type": "code",
   "execution_count": 168,
   "metadata": {},
   "outputs": [
    {
     "data": {
      "text/plain": [
       "1×7 RowVector{JuMP.Variable,ConjArray{JuMP.Variable,1,Array{JuMP.Variable,1}}}:\n",
       " rawMaterials[1]  rawMaterials[2]  …  rawMaterials[6]  rawMaterials[7]"
      ]
     },
     "execution_count": 168,
     "metadata": {},
     "output_type": "execute_result"
    }
   ],
   "source": [
    "rawMaterials'"
   ]
  },
  {
   "cell_type": "code",
   "execution_count": 167,
   "metadata": {},
   "outputs": [
    {
     "data": {
      "text/plain": [
       "1×3 RowVector{JuMP.GenericAffExpr{Float64,JuMP.Variable},ConjArray{JuMP.GenericAffExpr{Float64,JuMP.Variable},1,Array{JuMP.GenericAffExpr{Float64,JuMP.Variable},1}}}:\n",
       " 0.025 rawMaterials[1] + 0.03 rawMaterials[2]  …  0.013000000000000001 rawMaterials[1] + 0.008 rawMaterials[2] + 0.04 rawMaterials[5] + 0.012 rawMaterials[6]"
      ]
     },
     "execution_count": 167,
     "metadata": {},
     "output_type": "execute_result"
    }
   ],
   "source": [
    "rawMaterials'*composition"
   ]
  },
  {
   "cell_type": "code",
   "execution_count": 28,
   "metadata": {},
   "outputs": [
    {
     "data": {
      "text/plain": [
       "3-element Array{Float64,1}:\n",
       " 0.02 \n",
       " 0.004\n",
       " 0.012"
      ]
     },
     "execution_count": 28,
     "metadata": {},
     "output_type": "execute_result"
    }
   ],
   "source": [
    "minGrd = [2.0,0.4,1.2]*.01' "
   ]
  },
  {
   "cell_type": "code",
   "execution_count": 107,
   "metadata": {},
   "outputs": [
    {
     "data": {
      "text/plain": [
       "1×3 RowVector{Float64,Array{Float64,1}}:\n",
       " 0.02  0.006  0.012"
      ]
     },
     "execution_count": 107,
     "metadata": {},
     "output_type": "execute_result"
    }
   ],
   "source": [
    "rm'*composition / 500"
   ]
  },
  {
   "cell_type": "code",
   "execution_count": 99,
   "metadata": {},
   "outputs": [
    {
     "data": {
      "text/plain": [
       "1×3 RowVector{Float64,Array{Float64,1}}:\n",
       " 0.0125  0.003  0.0065"
      ]
     },
     "execution_count": 99,
     "metadata": {},
     "output_type": "execute_result"
    }
   ],
   "source": [
    "PS'*composition / 500"
   ]
  },
  {
   "cell_type": "markdown",
   "metadata": {},
   "source": [
    "#### problem 4) stingler's diet  \n",
    "\n",
    "##### a) reproduce findings\n",
    "\n",
    "Lets begin by importing the data from the CSV file - using the provided code. I've modified this code slightly to make implementing matrix constraints easier, as the notation is quite compact. \n",
    "\n",
    "\n"
   ]
  },
  {
   "cell_type": "code",
   "execution_count": 200,
   "metadata": {},
   "outputs": [],
   "source": [
    "# import Stigler's data set\n",
    "raw = readcsv(\"stigler.csv\")\n",
    "(m,n) = size(raw)\n",
    "\n",
    "n_nutrients = 2:n      # columns containing nutrients\n",
    "n_foods = 3:m          # rows containing food names\n",
    "\n",
    "nutrients = raw[1,n_nutrients][:]   # the list of nutrients (convert to 1-D array)\n",
    "foods = raw[n_foods,1][:]           # the list of foods (convert to 1-D array)\n",
    "\n",
    "# lower[i] is the minimum daily requirement of nutrient i.\n",
    "lconst = convert(Array{Float64},raw[2,n_nutrients])  #named arrays are a bit verbose\n",
    "\n",
    "# data[f,i] is the amount of nutrient i contained in food f.\n",
    "dataMat = raw[n_foods,n_nutrients]  #named arrays are a bit verbose\n",
    "dataMat = convert(Array{Float64},dataMat); #make it nice and floaty"
   ]
  },
  {
   "cell_type": "code",
   "execution_count": 211,
   "metadata": {},
   "outputs": [
    {
     "data": {
      "text/plain": [
       ":Optimal"
      ]
     },
     "execution_count": 211,
     "metadata": {},
     "output_type": "execute_result"
    }
   ],
   "source": [
    "using JuMP, Clp\n",
    "\n",
    "m = Model(solver=ClpSolver())\n",
    "\n",
    "@variable(m, Foods[1:size(foods)[1]] >= 0 )  \n",
    "@constraint(m, Foods'*dataMat  .>= lconst')\n",
    "@objective(m, Min, dot(Foods,ones(size(foods)[1])))                                      \n",
    "\n",
    "status = solve(m)\n"
   ]
  },
  {
   "cell_type": "markdown",
   "metadata": {},
   "source": [
    "Cool, our solver completed sucessfully. Lets check quickly that our constraints our met"
   ]
  },
  {
   "cell_type": "code",
   "execution_count": 245,
   "metadata": {},
   "outputs": [
    {
     "name": "stdout",
     "output_type": "stream",
     "text": [
      "Any[3.0 147.414 0.8 60.4669 5.0 4.12044 2.7 27.316 75.0]\n",
      "[3.0 70.0 0.8 12.0 5.0 1.8 2.7 18.0 75.0]\n",
      "diff = [0.0 77.4135 1.11022e-16 48.4669 0.0 2.32044 0.0 9.31598 -1.42109e-14]\n"
     ]
    }
   ],
   "source": [
    "foodsChoosen = []\n",
    "for i = 1:77\n",
    "    push!(foodsChoosen,getvalue(Foods[i]))    \n",
    "end\n",
    "println(foodsChoosen'*dataMat)\n",
    "println(lconst')\n",
    "differ = (convert(Array{Float64},foodsChoosen'*dataMat)[1,:] - lconst)'\n",
    "println(\"diff = \", differ)"
   ]
  },
  {
   "cell_type": "markdown",
   "metadata": {},
   "source": [
    "so we see our constraints are met. let's see how stigler did without a computer."
   ]
  },
  {
   "cell_type": "code",
   "execution_count": 220,
   "metadata": {},
   "outputs": [
    {
     "name": "stdout",
     "output_type": "stream",
     "text": [
      "cost of food over a year is: 39.66173154546625\n"
     ]
    }
   ],
   "source": [
    "println(\"cost of food over a year is: \", getobjectivevalue(m)*365 )"
   ]
  },
  {
   "cell_type": "markdown",
   "metadata": {},
   "source": [
    "Stigler didn't do too bad."
   ]
  },
  {
   "cell_type": "markdown",
   "metadata": {},
   "source": [
    "##### b) repeat with vegetarian diet\n",
    "\n",
    "I've manually filtered the stigler list to only include vegetarian cuizine because let's face it, who has time to figure out how to pop a row from a Named Array in code. below, we reload the stiglerVeg.csv and repeat the above analysis\n"
   ]
  },
  {
   "cell_type": "code",
   "execution_count": 247,
   "metadata": {},
   "outputs": [],
   "source": [
    "# import Stigler's data set\n",
    "raw = readcsv(\"stiglerVeg.csv\")\n",
    "(m,n) = size(raw)\n",
    "\n",
    "n_nutrients = 2:n      # columns containing nutrients\n",
    "n_foods = 3:m          # rows containing food names\n",
    "\n",
    "nutrients = raw[1,n_nutrients][:]   # the list of nutrients (convert to 1-D array)\n",
    "foods = raw[n_foods,1][:]           # the list of foods (convert to 1-D array)\n",
    "\n",
    "# lower[i] is the minimum daily requirement of nutrient i.\n",
    "lconst = convert(Array{Float64},raw[2,n_nutrients])  #named arrays are a bit verbose\n",
    "\n",
    "# data[f,i] is the amount of nutrient i contained in food f.\n",
    "dataMat = raw[n_foods,n_nutrients]  #named arrays are a bit verbose\n",
    "dataMat = convert(Array{Float64},dataMat); #make it nice and floaty"
   ]
  },
  {
   "cell_type": "code",
   "execution_count": 249,
   "metadata": {},
   "outputs": [
    {
     "data": {
      "text/plain": [
       ":Optimal"
      ]
     },
     "execution_count": 249,
     "metadata": {},
     "output_type": "execute_result"
    }
   ],
   "source": [
    "using JuMP, Clp\n",
    "\n",
    "m = Model(solver=ClpSolver())\n",
    "\n",
    "@variable(m, Foods[1:size(foods)[1]] >= 0 )  \n",
    "@constraint(m, Foods'*dataMat  .>= lconst')\n",
    "@objective(m, Min, dot(Foods,ones(size(foods)[1])))                                      \n",
    "\n",
    "status = solve(m)\n"
   ]
  },
  {
   "cell_type": "code",
   "execution_count": 250,
   "metadata": {},
   "outputs": [
    {
     "name": "stdout",
     "output_type": "stream",
     "text": [
      "cost of food over a year is: 39.79866435040896\n"
     ]
    }
   ],
   "source": [
    "println(\"cost of food over a year is: \", getobjectivevalue(m)*365 )"
   ]
  },
  {
   "cell_type": "markdown",
   "metadata": {},
   "source": [
    "The cost of food as a vegetarian is higher, but not by much"
   ]
  },
  {
   "cell_type": "code",
   "execution_count": null,
   "metadata": {},
   "outputs": [],
   "source": []
  }
 ],
 "metadata": {
  "kernelspec": {
   "display_name": "Julia 0.6.2",
   "language": "julia",
   "name": "julia-0.6"
  },
  "language_info": {
   "file_extension": ".jl",
   "mimetype": "application/julia",
   "name": "julia",
   "version": "0.6.2"
  }
 },
 "nbformat": 4,
 "nbformat_minor": 2
}
