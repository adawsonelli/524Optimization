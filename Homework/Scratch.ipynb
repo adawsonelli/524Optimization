{
 "cells": [
  {
   "cell_type": "markdown",
   "metadata": {},
   "source": [
    "#### 3d plots?\n"
   ]
  },
  {
   "cell_type": "code",
   "execution_count": 1,
   "metadata": {},
   "outputs": [
    {
     "name": "stdout",
     "output_type": "stream",
     "text": [
      "Max -x[1] + x[2] - x[3]\n",
      "Subject to\n",
      " x[3] <= 3\n",
      " -5 x[1] + 5 x[2] + 3 x[3] <= -10\n",
      " 5 x[1] - 5 x[2] - 3 x[3] <= 10\n",
      " -2 x[1] + 2 x[2] - x[3] <= -1\n",
      " x[i] >= 0 for all i in {1,2,3}\n",
      "\n",
      "Optimal\n",
      "\n",
      "p = 2.0\n",
      "q = 1.0\n",
      "objective = 3.0\n"
     ]
    }
   ],
   "source": [
    "# we defined the vector x to be: x = [u;  v;  w]\n",
    "A = [0 0 1; -5 5 3; 5 -5 -3; -2 2 -1]\n",
    "b = [3; -10; 10; -1]\n",
    "c = [-1; 1; -1]\n",
    "\n",
    "using JuMP, Clp\n",
    "\n",
    "m = Model(solver=ClpSolver())\n",
    "@variable(m, x[1:3] >= 0 )      # specify a vector variable\n",
    "@constraint(m, A*x .<= b )      # the dot in front of <=, which indicates element-wise (vector) inequalities\n",
    "@objective(m, Max, dot(c,x) )   # must use dot(c,x) or (c'*x)[1] to return a scalar\n",
    "\n",
    "status = solve(m)\n",
    "\n",
    "println(m)\n",
    "println(status)\n",
    "println()\n",
    "println(\"p = \", getvalue(x[1]-x[2]) )\n",
    "println(\"q = \", getvalue(x[3]+1) )\n",
    "println(\"objective = \", -(getobjectivevalue(m)-1) )"
   ]
  },
  {
   "cell_type": "code",
   "execution_count": 2,
   "metadata": {},
   "outputs": [
    {
     "data": {
      "text/latex": [
       "$$ x_{i} \\geq 0 \\quad\\forall i \\in \\{1,2,3\\} $$"
      ],
      "text/plain": [
       "3-element Array{JuMP.Variable,1}:\n",
       " x[1]\n",
       " x[2]\n",
       " x[3]"
      ]
     },
     "execution_count": 2,
     "metadata": {},
     "output_type": "execute_result"
    }
   ],
   "source": [
    "x"
   ]
  },
  {
   "cell_type": "code",
   "execution_count": null,
   "metadata": {},
   "outputs": [],
   "source": []
  }
 ],
 "metadata": {
  "kernelspec": {
   "display_name": "Julia 0.6.2",
   "language": "julia",
   "name": "julia-0.6"
  },
  "language_info": {
   "file_extension": ".jl",
   "mimetype": "application/julia",
   "name": "julia",
   "version": "0.6.2"
  }
 },
 "nbformat": 4,
 "nbformat_minor": 2
}
